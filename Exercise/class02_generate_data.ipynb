{
 "cells": [
  {
   "cell_type": "code",
   "execution_count": 10,
   "metadata": {},
   "outputs": [
    {
     "name": "stdout",
     "output_type": "stream",
     "text": [
      "6 0 4\n"
     ]
    }
   ],
   "source": [
    "import random\n",
    "myseed=12345\n",
    "random.seed(myseed)\n",
    "print(random.randint(0,10),\n",
    "     random.randint(0,10),\n",
    "     random.randint(0,10))"
   ]
  },
  {
   "cell_type": "code",
   "execution_count": 11,
   "metadata": {},
   "outputs": [
    {
     "name": "stdout",
     "output_type": "stream",
     "text": [
      "YES keyA=.. T ( 2 ) C ..\n",
      "NOT keyB=.. A ( 1 ) A ..\n"
     ]
    }
   ],
   "source": [
    "# Number of sample\n",
    "N = 3000\n",
    "# size of each string\n",
    "Ls = 16\n",
    "ch = ['A', 'C', 'G', 'T']\n",
    "Nc= len(ch)\n",
    "\n",
    "# data\n",
    "x = [None] * N\n",
    "# label\n",
    "y = [0] * N\n",
    "\n",
    "gapA = 2\n",
    "gapB = 1\n",
    "C0 = ch[3]\n",
    "C1 = ch[1]\n",
    "C2 = ch[0]\n",
    "C3 = ch[0]\n",
    "print('YES keyA=..',C0,'(',gapA,')',C1,'..')\n",
    "print('NOT keyB=..',C2,'(',gapB,')',C3,'..')"
   ]
  },
  {
   "cell_type": "code",
   "execution_count": 12,
   "metadata": {},
   "outputs": [],
   "source": [
    "def is_key(s,LS,c0,c1,gap):\n",
    "    for j in range(Ls-gap):\n",
    "        if s[j]==c0 and s[j+gap]==c1:\n",
    "            return True\n",
    "    return False    "
   ]
  },
  {
   "cell_type": "code",
   "execution_count": 13,
   "metadata": {},
   "outputs": [
    {
     "name": "stdout",
     "output_type": "stream",
     "text": [
      "TAGGCGTCGATGCCGA 1\n",
      "TCCCACGGATGATAAC 0\n",
      "CGATACTCGACATCCG 1\n",
      "TCACGACCGGCTGAAA 0\n",
      "TATCAGCATAATGTCG 0\n",
      "ACATCGCCCCGCAACA 0\n",
      "TCAGTATTCCCAGGCT 1\n",
      "CCCTTGAATCCCCGGC 0\n",
      "AGTAGAACGAGTGTGT 0\n",
      "GGTTAGTACGCAAAAC 0\n",
      "YES keyA=.. T ( 1 ) C ..\n",
      "NOT keyB=.. A ( 0 ) A ..\n",
      "0.32033333333333336\n"
     ]
    }
   ],
   "source": [
    "random.seed(myseed)\n",
    "\n",
    "for n in range(N):\n",
    "    s=\"\"\n",
    "    for j in range(Ls):\n",
    "        s=s+ch[random.randint(0,Nc-1)]\n",
    "    if is_key(s,Ls,C0,C1,gapA) and not is_key(s,Ls,C2,C3,gapB):\n",
    "        y[n]=1\n",
    "    x[n]=s\n",
    "    \n",
    "for n in range(10):\n",
    "    print(x[n],y[n])\n",
    "\n",
    "print('YES keyA=..',C0,'(',gapA-1,')',C1,'..')\n",
    "print('NOT keyB=..',C2,'(',gapB-1,')',C3,'..')\n",
    "\n",
    "print(sum(y)/N)"
   ]
  },
  {
   "cell_type": "code",
   "execution_count": 14,
   "metadata": {},
   "outputs": [],
   "source": [
    "#import subprocess\n",
    "#subprocess.run([\"mkdir\",\"DATA\"])\n",
    "import os\n",
    "os.system(\"mkdir DATA\")\n",
    "\n",
    "import csv\n",
    "with open('DATA/sequences'+str(Ls)+'.csv',mode=\"w\") as myfile:\n",
    "    writer=csv.writer(myfile,delimiter=',')\n",
    "    for n in range(N):\n",
    "        writer.writerow([x[n],y[n]])"
   ]
  },
  {
   "cell_type": "code",
   "execution_count": 15,
   "metadata": {},
   "outputs": [
    {
     "ename": "NameError",
     "evalue": "name 'TAGGCGTCGATG' is not defined",
     "output_type": "error",
     "traceback": [
      "\u001b[1;31m---------------------------------------------------------------------------\u001b[0m",
      "\u001b[1;31mNameError\u001b[0m                                 Traceback (most recent call last)",
      "\u001b[1;32m<ipython-input-15-f031767c3c42>\u001b[0m in \u001b[0;36m<module>\u001b[1;34m\u001b[0m\n\u001b[1;32m----> 1\u001b[1;33m \u001b[0mTAGGCGTCGATG\u001b[0m\u001b[1;33m,\u001b[0m\u001b[1;36m0\u001b[0m\u001b[1;33m\u001b[0m\u001b[1;33m\u001b[0m\u001b[0m\n\u001b[0m\u001b[0;32m      2\u001b[0m \u001b[0mCCGATCCCACGG\u001b[0m\u001b[1;33m,\u001b[0m\u001b[1;36m1\u001b[0m\u001b[1;33m\u001b[0m\u001b[1;33m\u001b[0m\u001b[0m\n\u001b[0;32m      3\u001b[0m \u001b[0mATGATAACCGAT\u001b[0m\u001b[1;33m,\u001b[0m\u001b[1;36m0\u001b[0m\u001b[1;33m\u001b[0m\u001b[1;33m\u001b[0m\u001b[0m\n\u001b[0;32m      4\u001b[0m \u001b[0mACTCGACATCCG\u001b[0m\u001b[1;33m,\u001b[0m\u001b[1;36m1\u001b[0m\u001b[1;33m\u001b[0m\u001b[1;33m\u001b[0m\u001b[0m\n\u001b[0;32m      5\u001b[0m \u001b[0mTCACGACCGGCT\u001b[0m\u001b[1;33m,\u001b[0m\u001b[1;36m0\u001b[0m\u001b[1;33m\u001b[0m\u001b[1;33m\u001b[0m\u001b[0m\n",
      "\u001b[1;31mNameError\u001b[0m: name 'TAGGCGTCGATG' is not defined"
     ]
    }
   ],
   "source": [
    "TAGGCGTCGATG,0\n",
    "CCGATCCCACGG,1\n",
    "ATGATAACCGAT,0\n",
    "ACTCGACATCCG,1\n",
    "TCACGACCGGCT,0\n",
    "GAAATATCAGCA,0\n",
    "TAATGTCGACAT,0\n",
    "CGCCCCGCAACA,0\n",
    "TCAGTATTCCCA,1\n",
    "GGCTCCCTTGAA,0"
   ]
  },
  {
   "cell_type": "markdown",
   "metadata": {},
   "source": [
    "### -----------------------------------------------------------------------------------------------------------------------------"
   ]
  },
  {
   "cell_type": "markdown",
   "metadata": {},
   "source": [
    "### Packages"
   ]
  },
  {
   "cell_type": "code",
   "execution_count": 16,
   "metadata": {},
   "outputs": [],
   "source": [
    "import numpy as np\n",
    "import matplotlib.pyplot as plt\n",
    "from keras.models import Sequential\n",
    "from keras.layers import Dense, Dropout\n",
    "from keras.optimizers import SGD\n",
    "import time\n",
    "import math\n"
   ]
  },
  {
   "cell_type": "markdown",
   "metadata": {},
   "source": [
    "### Data(strings) and splitting"
   ]
  },
  {
   "cell_type": "code",
   "execution_count": 17,
   "metadata": {},
   "outputs": [
    {
     "name": "stdout",
     "output_type": "stream",
     "text": [
      "3000\n",
      "16\n",
      "TAGGCGTCGATGCCGA 1\n",
      "TCCCACGGATGATAAC 0\n",
      "\n",
      "data: 3000\n",
      "train:2400\n",
      "test:600\n"
     ]
    }
   ],
   "source": [
    "frame=\"DATA/sequences16.csv\"\n",
    "sx, sy = np.loadtxt(frame,delimiter=\",\",\n",
    "                   usecols=(0,1), unpack=True, dtype=str)\n",
    "N =len(sy)\n",
    "Ls = len(sx[0])\n",
    "print(N)\n",
    "print(Ls)\n",
    "print(sx[0], sy[0])\n",
    "print(sx[1], sy[1])\n",
    "\n",
    "perc_train = 0.8\n",
    "N_train = int(N*perc_train)\n",
    "N_test = N - N_train\n",
    "print(f'\\ndata: {N}\\ntrain:{N_train}\\ntest:{N_test}')"
   ]
  },
  {
   "cell_type": "code",
   "execution_count": 18,
   "metadata": {},
   "outputs": [
    {
     "name": "stdout",
     "output_type": "stream",
     "text": [
      "{'A': 0, 'C': 1, 'G': 2, 'T': 3}\n"
     ]
    }
   ],
   "source": [
    "Q = [\"A\", \"C\", \"G\", \"T\"]\n",
    "Nc = 4\n",
    "onehc = {Q[i]:i for i in range(Nc)}\n",
    "print(onehc)"
   ]
  },
  {
   "cell_type": "markdown",
   "metadata": {},
   "source": [
    "### Data conversion"
   ]
  },
  {
   "cell_type": "code",
   "execution_count": 32,
   "metadata": {},
   "outputs": [
    {
     "name": "stdout",
     "output_type": "stream",
     "text": [
      "64\n",
      "[0. 0. 0. 0. 0. 0. 0. 0. 0. 0. 0. 0. 0. 0. 0. 0. 0. 0. 0. 0. 0. 0. 0. 0.\n",
      " 0. 0. 0. 0. 0. 0. 0. 0. 0. 0. 0. 0. 0. 0. 0. 0. 0. 0. 0. 0. 0. 0. 0. 0.\n",
      " 0. 0. 0. 0. 0. 0. 0. 0. 0. 0. 0. 0. 0. 0. 0. 0.]\n",
      "TAGGCGTCGATGCCGA\n",
      "[0. 0. 0. 1. 1. 0. 0. 0. 0. 0. 1. 0. 0. 0. 1. 0. 0. 1. 0. 0. 0. 0. 1. 0.\n",
      " 0. 0. 0. 1. 0. 1. 0. 0. 0. 0. 1. 0. 1. 0. 0. 0. 0. 0. 0. 1. 0. 0. 1. 0.\n",
      " 0. 1. 0. 0. 0. 1. 0. 0. 0. 0. 1. 0. 1. 0. 0. 0.]\n"
     ]
    }
   ],
   "source": [
    "y = sy.astype(int)\n",
    "\n",
    "L = Ls*Nc\n",
    "print(L)\n",
    "\n",
    "x = np.zeros((N,L))\n",
    "print(x[0])\n",
    "\n",
    "for n in range(N):\n",
    "    for i in range(Ls):\n",
    "        x[n][i*4+onehc[sx[n][i]]] = 1\n",
    "        \n",
    "print(sx[0])\n",
    "print(x[0])\n",
    "        "
   ]
  },
  {
   "cell_type": "code",
   "execution_count": 33,
   "metadata": {},
   "outputs": [
    {
     "name": "stdout",
     "output_type": "stream",
     "text": [
      "[[0. 0. 0. ... 0. 0. 0.]\n",
      " [0. 0. 0. ... 1. 0. 0.]\n",
      " [0. 1. 0. ... 0. 1. 0.]\n",
      " ...\n",
      " [0. 1. 0. ... 0. 0. 1.]\n",
      " [0. 1. 0. ... 1. 0. 0.]\n",
      " [1. 0. 0. ... 0. 0. 0.]]\n",
      "[1. 0. 0. 0. 0. 0. 0. 1. 0. 0. 1. 0. 1. 0. 0. 0. 1. 0. 0. 0. 1. 0. 0. 0.\n",
      " 0. 0. 0. 1. 1. 0. 0. 0. 1. 0. 0. 0. 0. 0. 1. 0. 1. 0. 0. 0. 0. 0. 1. 0.\n",
      " 1. 0. 0. 0. 0. 0. 0. 1. 0. 1. 0. 0. 1. 0. 0. 0.]\n",
      "2999\n"
     ]
    }
   ],
   "source": [
    "print(x)\n",
    "print(x[n])\n"
   ]
  },
  {
   "cell_type": "markdown",
   "metadata": {},
   "source": [
    "### Split train/test-validation"
   ]
  },
  {
   "cell_type": "code",
   "execution_count": 20,
   "metadata": {},
   "outputs": [
    {
     "name": "stdout",
     "output_type": "stream",
     "text": [
      "0.3229166666666667\n",
      "0.31\n"
     ]
    }
   ],
   "source": [
    "(x_train, y_train) = (x[:N_train], y[:N_train])\n",
    "(x_test, y_test) = (x[N_train:], y[N_train:])\n",
    "\n",
    "print(y_train.sum() / N_train)\n",
    "print(y_test.sum() / N_test)"
   ]
  },
  {
   "cell_type": "markdown",
   "metadata": {},
   "source": [
    "### Definition of model in Keras"
   ]
  },
  {
   "cell_type": "code",
   "execution_count": 21,
   "metadata": {},
   "outputs": [
    {
     "name": "stdout",
     "output_type": "stream",
     "text": [
      "Model: \"sequential\"\n",
      "_________________________________________________________________\n",
      "Layer (type)                 Output Shape              Param #   \n",
      "=================================================================\n",
      "dense (Dense)                (None, 64)                4160      \n",
      "_________________________________________________________________\n",
      "dense_1 (Dense)              (None, 32)                2080      \n",
      "_________________________________________________________________\n",
      "dense_2 (Dense)              (None, 16)                528       \n",
      "_________________________________________________________________\n",
      "dropout (Dropout)            (None, 16)                0         \n",
      "_________________________________________________________________\n",
      "dense_3 (Dense)              (None, 1)                 17        \n",
      "=================================================================\n",
      "Total params: 6,785\n",
      "Trainable params: 6,785\n",
      "Non-trainable params: 0\n",
      "_________________________________________________________________\n",
      "None\n"
     ]
    }
   ],
   "source": [
    "np.random.seed(123)\n",
    "\n",
    "model = Sequential()\n",
    "\n",
    "model.add(Dense(L,input_shape=(L,),activation=\"relu\"))\n",
    "model.add(Dense(L/2,activation=\"relu\"))\n",
    "model.add(Dense(L/4,activation=\"relu\"))\n",
    "model.add(Dropout(0.2))\n",
    "model.add(Dense(1,activation=\"tanh\"))\n",
    "\n",
    "print(model.summary())"
   ]
  },
  {
   "cell_type": "code",
   "execution_count": 22,
   "metadata": {},
   "outputs": [],
   "source": [
    "opt1 = SGD(learning_rate=0.1,\n",
    "          momentum=0.9,\n",
    "          nesterov=True)\n",
    "\n",
    "\n",
    "model.compile(loss=\"binary_crossentropy\",\n",
    "             optimizer=opt1,\n",
    "             metrics=['accuracy'])"
   ]
  },
  {
   "cell_type": "code",
   "execution_count": 23,
   "metadata": {},
   "outputs": [
    {
     "name": "stdout",
     "output_type": "stream",
     "text": [
      "Epoch 1/30\n",
      "24/24 [==============================] - 2s 48ms/step - loss: 1.4629 - accuracy: 0.6404 - val_loss: 0.6123 - val_accuracy: 0.6900\n",
      "Epoch 2/30\n",
      "24/24 [==============================] - 0s 6ms/step - loss: 0.8426 - accuracy: 0.6481 - val_loss: 4.7817 - val_accuracy: 0.6900\n",
      "Epoch 3/30\n",
      "24/24 [==============================] - 0s 7ms/step - loss: 4.2567 - accuracy: 0.6420 - val_loss: 4.7817 - val_accuracy: 0.6900\n",
      "Epoch 4/30\n",
      "24/24 [==============================] - 0s 7ms/step - loss: 4.0299 - accuracy: 0.6745 - val_loss: 4.7817 - val_accuracy: 0.6900\n",
      "Epoch 5/30\n",
      "24/24 [==============================] - 0s 10ms/step - loss: 4.1111 - accuracy: 0.6751 - val_loss: 4.7817 - val_accuracy: 0.6900\n",
      "Epoch 6/30\n",
      "24/24 [==============================] - 0s 10ms/step - loss: 3.9762 - accuracy: 0.6885 - val_loss: 4.7817 - val_accuracy: 0.6900\n",
      "Epoch 7/30\n",
      "24/24 [==============================] - 0s 10ms/step - loss: 4.1105 - accuracy: 0.6831 - val_loss: 4.7817 - val_accuracy: 0.6900\n",
      "Epoch 8/30\n",
      "24/24 [==============================] - 0s 10ms/step - loss: 4.2034 - accuracy: 0.6721 - val_loss: 4.7817 - val_accuracy: 0.6900\n",
      "Epoch 9/30\n",
      "24/24 [==============================] - 0s 12ms/step - loss: 4.1904 - accuracy: 0.6760 - val_loss: 4.7817 - val_accuracy: 0.6900\n",
      "Epoch 10/30\n",
      "24/24 [==============================] - 0s 9ms/step - loss: 4.2338 - accuracy: 0.6669 - val_loss: 4.7817 - val_accuracy: 0.6900\n",
      "Epoch 11/30\n",
      "24/24 [==============================] - 0s 9ms/step - loss: 3.9153 - accuracy: 0.6781 - val_loss: 4.7817 - val_accuracy: 0.6900\n",
      "Epoch 12/30\n",
      "24/24 [==============================] - 0s 9ms/step - loss: 4.1495 - accuracy: 0.6812 - val_loss: 4.7817 - val_accuracy: 0.6900\n",
      "Epoch 13/30\n",
      "24/24 [==============================] - 0s 9ms/step - loss: 4.2705 - accuracy: 0.6594 - val_loss: 4.7817 - val_accuracy: 0.6900\n",
      "Epoch 14/30\n",
      "24/24 [==============================] - 0s 10ms/step - loss: 4.0327 - accuracy: 0.6898 - val_loss: 4.7817 - val_accuracy: 0.6900\n",
      "Epoch 15/30\n",
      "24/24 [==============================] - 0s 11ms/step - loss: 4.2792 - accuracy: 0.6711 - val_loss: 4.7817 - val_accuracy: 0.6900\n",
      "Epoch 16/30\n",
      "24/24 [==============================] - 0s 11ms/step - loss: 3.9762 - accuracy: 0.6906 - val_loss: 4.7817 - val_accuracy: 0.6900\n",
      "Epoch 17/30\n",
      "24/24 [==============================] - 0s 7ms/step - loss: 4.1881 - accuracy: 0.6666 - val_loss: 4.7817 - val_accuracy: 0.6900\n",
      "Epoch 18/30\n",
      "24/24 [==============================] - 0s 5ms/step - loss: 4.0061 - accuracy: 0.6887 - val_loss: 4.7817 - val_accuracy: 0.6900\n",
      "Epoch 19/30\n",
      "24/24 [==============================] - 0s 7ms/step - loss: 3.9965 - accuracy: 0.6858 - val_loss: 4.7817 - val_accuracy: 0.6900\n",
      "Epoch 20/30\n",
      "24/24 [==============================] - 0s 9ms/step - loss: 4.0903 - accuracy: 0.6692 - val_loss: 4.7817 - val_accuracy: 0.6900\n",
      "Epoch 21/30\n",
      "24/24 [==============================] - 0s 5ms/step - loss: 4.1243 - accuracy: 0.6808 - val_loss: 4.7817 - val_accuracy: 0.6900\n",
      "Epoch 22/30\n",
      "24/24 [==============================] - 0s 5ms/step - loss: 3.9030 - accuracy: 0.6896 - val_loss: 4.7817 - val_accuracy: 0.6900\n",
      "Epoch 23/30\n",
      "24/24 [==============================] - 0s 5ms/step - loss: 4.1921 - accuracy: 0.6707 - val_loss: 4.7817 - val_accuracy: 0.6900\n",
      "Epoch 24/30\n",
      "24/24 [==============================] - 0s 5ms/step - loss: 4.1416 - accuracy: 0.6753 - val_loss: 4.7817 - val_accuracy: 0.6900\n",
      "Epoch 25/30\n",
      "24/24 [==============================] - 0s 6ms/step - loss: 4.0532 - accuracy: 0.6749 - val_loss: 4.7817 - val_accuracy: 0.6900\n",
      "Epoch 26/30\n",
      "24/24 [==============================] - 0s 5ms/step - loss: 4.1550 - accuracy: 0.6766 - val_loss: 4.7817 - val_accuracy: 0.6900\n",
      "Epoch 27/30\n",
      "24/24 [==============================] - 0s 6ms/step - loss: 4.1096 - accuracy: 0.6774 - val_loss: 4.7817 - val_accuracy: 0.6900\n",
      "Epoch 28/30\n",
      "24/24 [==============================] - 0s 5ms/step - loss: 4.1157 - accuracy: 0.6778 - val_loss: 4.7817 - val_accuracy: 0.6900\n",
      "Epoch 29/30\n",
      "24/24 [==============================] - 0s 6ms/step - loss: 4.0038 - accuracy: 0.6735 - val_loss: 4.7817 - val_accuracy: 0.6900\n",
      "Epoch 30/30\n",
      "24/24 [==============================] - 0s 8ms/step - loss: 4.0759 - accuracy: 0.6811 - val_loss: 4.7817 - val_accuracy: 0.6900\n"
     ]
    }
   ],
   "source": [
    "fit = model.fit(x_train, y_train, \n",
    "               epochs=30, batch_size=100,\n",
    "               validation_data=(x_test,y_test),\n",
    "               shuffle=True)"
   ]
  },
  {
   "cell_type": "code",
   "execution_count": 24,
   "metadata": {},
   "outputs": [
    {
     "data": {
      "image/png": "[encoded data removed]",
      "text/plain": [
       "<Figure size 432x288 with 1 Axes>"
      ]
     },
     "metadata": {
      "needs_background": "light"
     },
     "output_type": "display_data"
    },
    {
     "data": {
      "image/png": "[encoded data removed]",
      "text/plain": [
       "<Figure size 432x288 with 1 Axes>"
      ]
     },
     "metadata": {
      "needs_background": "light"
     },
     "output_type": "display_data"
    }
   ],
   "source": [
    "for obs in ('accuracy', 'loss'):\n",
    "    plt.figure(figsize=(6,4))\n",
    "    plt.plot(fit.history[obs], 'r',\n",
    "            label=obs+'of training data')\n",
    "    #dash line\n",
    "    plt.plot(fit.history['val_'+obs],'b--',\n",
    "            label=obs+'of validation data')\n",
    "    plt.ylabel(obs)\n",
    "    plt.xlabel('Epoch')\n",
    "    plt.legend()\n",
    "    plt.show()\n",
    "    "
   ]
  },
  {
   "cell_type": "code",
   "execution_count": null,
   "metadata": {},
   "outputs": [],
   "source": []
  },
  {
   "cell_type": "code",
   "execution_count": null,
   "metadata": {},
   "outputs": [],
   "source": []
  }
 ],
 "metadata": {
  "kernelspec": {
   "display_name": "Python 3",
   "language": "python",
   "name": "python3"
  },
  "language_info": {
   "codemirror_mode": {
    "name": "ipython",
    "version": 3
   },
   "file_extension": ".py",
   "mimetype": "text/x-python",
   "name": "python",
   "nbconvert_exporter": "python",
   "pygments_lexer": "ipython3",
   "version": "3.6.8"
  }
 },
 "nbformat": 4,
 "nbformat_minor": 4
}
