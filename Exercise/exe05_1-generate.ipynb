{
 "cells": [
  {
   "cell_type": "code",
   "execution_count": 1,
   "metadata": {},
   "outputs": [
    {
     "name": "stdout",
     "output_type": "stream",
     "text": [
      "0.052363598850944326\n",
      "0.08718667752263232\n",
      "0.4072417636703983\n",
      "0.10770023493843905\n"
     ]
    }
   ],
   "source": [
    "import csv\n",
    "# random seed for reproducibility\n",
    "import random\n",
    "random.seed(123)\n",
    "\n",
    "for i in range(4):\n",
    "    print(random.random())"
   ]
  },
  {
   "cell_type": "code",
   "execution_count": 2,
   "metadata": {},
   "outputs": [
    {
     "name": "stdout",
     "output_type": "stream",
     "text": [
      "[0, 1, 0, 0, 1, 0, 1, 1] 2\n",
      "[1, 1, 0, 1, 1, 0, 0, 1] 0\n",
      "[0, 1, 1, 1, 0, 0, 1, 1] 3\n",
      "[0, 0, 1, 1, 1, 1, 0, 0] 1\n",
      "[0, 0, 1, 1, 0, 0, 1, 0] 3\n",
      "[1, 1, 0, 0, 1, 0, 0, 0] 0\n",
      "[0, 1, 1, 0, 1, 1, 0, 0] 1\n",
      "[1, 1, 0, 0, 0, 0, 1, 1] 2\n",
      "[1, 0, 0, 1, 1, 1, 0, 1] 1\n",
      "[1, 0, 0, 0, 0, 0, 1, 0] 2\n",
      "[0, 1, 1, 1, 1, 0, 1, 1] 3\n",
      "[1, 1, 1, 0, 0, 1, 0, 0] 0\n",
      "[0, 0, 1, 1, 0, 0, 1, 1] 3\n",
      "[0, 0, 1, 1, 1, 1, 0, 1] 1\n",
      "[0, 0, 1, 1, 1, 0, 0, 0] 1\n",
      "[0, 0, 0, 1, 0, 0, 1, 1] 3\n",
      "[1, 0, 0, 0, 1, 1, 0, 0] 0\n",
      "[0, 0, 1, 1, 0, 0, 1, 1] 3\n",
      "[1, 1, 0, 0, 1, 1, 1, 0] 0\n",
      "[0, 0, 1, 1, 0, 0, 1, 1] 3\n"
     ]
    }
   ],
   "source": [
    "# number of data\n",
    "N=10000\n",
    "# size of each data point\n",
    "L=8\n",
    "# 4 intervals of length Z=L/4, each containing a set of 1's or 0's\n",
    "Z=int(L/4)\n",
    "# choose among states (1,0,1,0), (0,1,1,0), (1,0,0,1), (0,1,0,1) from a 2x2 product of (1,0)x(1,0)\n",
    "# with prob=1/4\n",
    "# corruption of bits: switch each of the L variables with probability q\n",
    "q=0.1\n",
    "\n",
    "y = [0] * N\n",
    "x = [[0] * L for j in range(N)]\n",
    "vec1 = [1] * Z     \n",
    "\n",
    "def ones(n,i,j):\n",
    "    x[n][Z*i:Z*(i+1)] = vec1\n",
    "    x[n][Z*(j+2):Z*(j+3)] = vec1\n",
    "\n",
    "random.seed(123)\n",
    "for n in range(N):\n",
    "    a = random.randint(0,1)\n",
    "    b = random.randint(0,1)\n",
    "    y[n] = a+b*2\n",
    "    ones(n,a,b)\n",
    "    \n",
    "    for j in range(L):\n",
    "        if random.random()<q:\n",
    "             x[n][j] = 1-x[n][j]\n",
    "                \n",
    "                \n",
    "for n in range(min(20,N)):\n",
    "    print(x[n],y[n])"
   ]
  },
  {
   "cell_type": "code",
   "execution_count": 3,
   "metadata": {},
   "outputs": [
    {
     "name": "stdout",
     "output_type": "stream",
     "text": [
      "DATA/dataRBM_q0.1.csv\n"
     ]
    },
    {
     "name": "stderr",
     "output_type": "stream",
     "text": [
      "A subdirectory or file DATA already exists.\n"
     ]
    }
   ],
   "source": [
    "!mkdir DATA\n",
    "\n",
    "fname = 'DATA/dataRBM_q'+str(q)+'.csv'\n",
    "print(fname)\n",
    "# any way to do it in one line?\n",
    "with open(fname, mode='w') as myfile:\n",
    "    writer = csv.writer(myfile, delimiter=',')\n",
    "    for i in range(N):\n",
    "        writer.writerow(x[i])"
   ]
  },
  {
   "cell_type": "code",
   "execution_count": null,
   "metadata": {},
   "outputs": [],
   "source": []
  }
 ],
 "metadata": {
  "kernelspec": {
   "display_name": "Python 3",
   "language": "python",
   "name": "python3"
  },
  "language_info": {
   "codemirror_mode": {
    "name": "ipython",
    "version": 3
   },
   "file_extension": ".py",
   "mimetype": "text/x-python",
   "name": "python",
   "nbconvert_exporter": "python",
   "pygments_lexer": "ipython3",
   "version": "3.6.8"
  }
 },
 "nbformat": 4,
 "nbformat_minor": 2
}
